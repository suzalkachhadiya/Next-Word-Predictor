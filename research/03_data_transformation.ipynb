{
 "cells": [
  {
   "cell_type": "code",
   "execution_count": 1,
   "metadata": {},
   "outputs": [],
   "source": [
    "import os"
   ]
  },
  {
   "cell_type": "code",
   "execution_count": 2,
   "metadata": {},
   "outputs": [
    {
     "data": {
      "text/plain": [
       "'c:\\\\DataScience\\\\Projects\\\\Next_Word_Predictor\\\\research'"
      ]
     },
     "execution_count": 2,
     "metadata": {},
     "output_type": "execute_result"
    }
   ],
   "source": [
    "%pwd"
   ]
  },
  {
   "cell_type": "code",
   "execution_count": 3,
   "metadata": {},
   "outputs": [],
   "source": [
    "os.chdir(\"../\")"
   ]
  },
  {
   "cell_type": "code",
   "execution_count": 4,
   "metadata": {},
   "outputs": [
    {
     "data": {
      "text/plain": [
       "'c:\\\\DataScience\\\\Projects\\\\Next_Word_Predictor'"
      ]
     },
     "execution_count": 4,
     "metadata": {},
     "output_type": "execute_result"
    }
   ],
   "source": [
    "%pwd"
   ]
  },
  {
   "cell_type": "code",
   "execution_count": 5,
   "metadata": {},
   "outputs": [],
   "source": [
    "from dataclasses import dataclass\n",
    "from pathlib import Path\n",
    "\n",
    "\n",
    "@dataclass(frozen=True)\n",
    "class DataTransformationConfig:\n",
    "    root_dir: Path\n",
    "    Data_path: Path\n",
    "    padding: str\n",
    "    num_classes: int"
   ]
  },
  {
   "cell_type": "code",
   "execution_count": 6,
   "metadata": {},
   "outputs": [],
   "source": [
    "from NWPproject.constants import *\n",
    "from NWPproject.utils.common import read_yaml_file, create_directories"
   ]
  },
  {
   "cell_type": "code",
   "execution_count": 7,
   "metadata": {},
   "outputs": [],
   "source": [
    "class ConfigurationManager:\n",
    "    def __init__(\n",
    "        self,\n",
    "        config_filepath = CONFIG_FILE_PATH,\n",
    "        params_filepath = PARAMS_FILE_PATH):\n",
    "\n",
    "        self.config = read_yaml_file(config_filepath)\n",
    "        self.params = read_yaml_file(params_filepath)\n",
    "\n",
    "        create_directories([self.config.artifacts_root])\n",
    "\n",
    "    \n",
    "    def get_data_transformation_config(self) -> DataTransformationConfig:\n",
    "        config = self.config.data_transformation\n",
    "        padding_params=self.params.pad_sequences\n",
    "        num_classes_params=self.params.to_categorical\n",
    "\n",
    "        create_directories([config.root_dir])\n",
    "\n",
    "        data_transformation_config = DataTransformationConfig(\n",
    "            root_dir=config.root_dir,\n",
    "            Data_path=config.Data_path,\n",
    "            padding=padding_params.padding,\n",
    "            num_classes=num_classes_params.num_classes\n",
    "        )\n",
    "\n",
    "        return data_transformation_config"
   ]
  },
  {
   "cell_type": "code",
   "execution_count": 8,
   "metadata": {},
   "outputs": [],
   "source": [
    "import tensorflow as tf\n",
    "import numpy as np\n",
    "import os\n",
    "from tensorflow.keras.preprocessing.text import Tokenizer\n",
    "from tensorflow.keras.preprocessing.sequence import pad_sequences\n",
    "from tensorflow.keras.utils import to_categorical"
   ]
  },
  {
   "cell_type": "code",
   "execution_count": 9,
   "metadata": {},
   "outputs": [],
   "source": [
    "class DataTransformation:\n",
    "    def __init__(self, config: DataTransformationConfig):\n",
    "        self.config = config\n",
    "    \n",
    "    def data_transformation(self):\n",
    "        with open(self.config.Data_path, 'r') as f:\n",
    "            data = f.read()\n",
    "\n",
    "        tokenizer=Tokenizer()\n",
    "\n",
    "        tokenizer.fit_on_texts([data])\n",
    "\n",
    "        input_seq=[]\n",
    "        for sentence in data.split(\"\\n\"):\n",
    "            tokenized_sentence=tokenizer.texts_to_sequences([sentence])[0]\n",
    "            for i in range(1,len(tokenized_sentence)):\n",
    "                n_gram=tokenized_sentence[:i+1]\n",
    "                input_seq.append(n_gram)\n",
    "\n",
    "        max_len=max([len(i) for i in input_seq])\n",
    "\n",
    "        padded_input_seq=pad_sequences(input_seq,maxlen=max_len,padding=self.config.padding)\n",
    "\n",
    "        X=padded_input_seq[:,:-1]\n",
    "        Y=padded_input_seq[:,-1]\n",
    "\n",
    "        print(X.shape)\n",
    "        print(Y.shape)\n",
    "\n",
    "        y=to_categorical(Y,num_classes=self.config.num_classes)\n",
    "\n",
    "        print(type(X))\n",
    "        print(type(y))\n",
    "\n",
    "        print(X.shape)\n",
    "        print(y.shape)\n",
    "\n",
    "        file_path=os.path.join(self.config.root_dir,\"arrays.npz\")\n",
    "        np.savez(file_path, arr1=X, arr2=y)\n",
    "\n",
    "        loaded_arrays = np.load(file_path)\n",
    "\n",
    "        loaded_array1 = loaded_arrays['arr1']\n",
    "        loaded_array2 = loaded_arrays['arr2']\n",
    "\n",
    "        print(\"Loaded array1:\", type(loaded_array1))\n",
    "        print(\"Loaded array2:\", type(loaded_array2))\n",
    "\n",
    "        print(loaded_array1.shape)\n",
    "        print(loaded_array2.shape)\n",
    "        "
   ]
  },
  {
   "cell_type": "code",
   "execution_count": 10,
   "metadata": {},
   "outputs": [
    {
     "name": "stdout",
     "output_type": "stream",
     "text": [
      "[2024-06-29 19:51:43,752: INFO:common: yaml file: config\\config.yaml loaded successfully]\n",
      "[2024-06-29 19:51:43,758: INFO:common: yaml file: params.yaml loaded successfully]\n",
      "[2024-06-29 19:51:43,759: INFO:common: createD Directory at:artifacts]\n",
      "[2024-06-29 19:51:43,760: INFO:common: createD Directory at:artifacts/data_transformation]\n",
      "(379, 39)\n",
      "(379,)\n",
      "<class 'numpy.ndarray'>\n",
      "<class 'numpy.ndarray'>\n",
      "(379, 39)\n",
      "(379, 221)\n",
      "Loaded array1: <class 'numpy.ndarray'>\n",
      "Loaded array2: <class 'numpy.ndarray'>\n",
      "(379, 39)\n",
      "(379, 221)\n"
     ]
    }
   ],
   "source": [
    "try:\n",
    "    config = ConfigurationManager()\n",
    "    data_transformation_config = config.get_data_transformation_config()\n",
    "    data_transformation = DataTransformation(config=data_transformation_config)\n",
    "    data_transformation.data_transformation()\n",
    "except Exception as e:\n",
    "    raise e"
   ]
  }
 ],
 "metadata": {
  "kernelspec": {
   "display_name": "envNWP",
   "language": "python",
   "name": "python3"
  },
  "language_info": {
   "codemirror_mode": {
    "name": "ipython",
    "version": 3
   },
   "file_extension": ".py",
   "mimetype": "text/x-python",
   "name": "python",
   "nbconvert_exporter": "python",
   "pygments_lexer": "ipython3",
   "version": "3.8.19"
  }
 },
 "nbformat": 4,
 "nbformat_minor": 2
}
