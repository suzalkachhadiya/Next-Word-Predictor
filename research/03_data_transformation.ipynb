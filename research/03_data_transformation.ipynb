{
 "cells": [
  {
   "cell_type": "code",
   "execution_count": 1,
   "metadata": {},
   "outputs": [],
   "source": [
    "import os"
   ]
  },
  {
   "cell_type": "code",
   "execution_count": 2,
   "metadata": {},
   "outputs": [
    {
     "data": {
      "text/plain": [
       "'c:\\\\DataScience\\\\Projects\\\\Next_Word_Predictor\\\\research'"
      ]
     },
     "execution_count": 2,
     "metadata": {},
     "output_type": "execute_result"
    }
   ],
   "source": [
    "%pwd"
   ]
  },
  {
   "cell_type": "code",
   "execution_count": 3,
   "metadata": {},
   "outputs": [],
   "source": [
    "os.chdir(\"../\")"
   ]
  },
  {
   "cell_type": "code",
   "execution_count": 4,
   "metadata": {},
   "outputs": [
    {
     "data": {
      "text/plain": [
       "'c:\\\\DataScience\\\\Projects\\\\Next_Word_Predictor'"
      ]
     },
     "execution_count": 4,
     "metadata": {},
     "output_type": "execute_result"
    }
   ],
   "source": [
    "%pwd"
   ]
  },
  {
   "cell_type": "code",
   "execution_count": 5,
   "metadata": {},
   "outputs": [],
   "source": [
    "from dataclasses import dataclass\n",
    "from pathlib import Path\n",
    "\n",
    "\n",
    "@dataclass(frozen=True)\n",
    "class DataTransformationConfig:\n",
    "    root_dir: Path\n",
    "    Data_path: Path\n",
    "    padding: str\n",
    "    tokenizer_name: str"
   ]
  },
  {
   "cell_type": "code",
   "execution_count": 6,
   "metadata": {},
   "outputs": [],
   "source": [
    "from NWPproject.constants import *\n",
    "from NWPproject.utils.common import read_yaml_file, create_directories, update_nested_yaml"
   ]
  },
  {
   "cell_type": "code",
   "execution_count": 7,
   "metadata": {},
   "outputs": [],
   "source": [
    "class ConfigurationManager:\n",
    "    def __init__(\n",
    "        self,\n",
    "        config_filepath = CONFIG_FILE_PATH,\n",
    "        params_filepath = PARAMS_FILE_PATH):\n",
    "\n",
    "        self.config = read_yaml_file(config_filepath)\n",
    "        self.params = read_yaml_file(params_filepath)\n",
    "\n",
    "        create_directories([self.config.artifacts_root])\n",
    "\n",
    "    \n",
    "    def get_data_transformation_config(self) -> DataTransformationConfig:\n",
    "        config = self.config.data_transformation\n",
    "        padding_params=self.params.pad_sequences\n",
    "\n",
    "        create_directories([config.root_dir])\n",
    "\n",
    "        data_transformation_config = DataTransformationConfig(\n",
    "            root_dir=config.root_dir,\n",
    "            Data_path=config.Data_path,\n",
    "            padding=padding_params.padding,\n",
    "            tokenizer_name=config.tokenizer_name\n",
    "        )\n",
    "\n",
    "        return data_transformation_config"
   ]
  },
  {
   "cell_type": "code",
   "execution_count": 8,
   "metadata": {},
   "outputs": [],
   "source": [
    "import tensorflow as tf\n",
    "import numpy as np\n",
    "import os\n",
    "import joblib\n",
    "from NWPproject import constants\n",
    "from tensorflow.keras.preprocessing.text import Tokenizer\n",
    "from tensorflow.keras.preprocessing.sequence import pad_sequences\n",
    "from tensorflow.keras.utils import to_categorical"
   ]
  },
  {
   "cell_type": "code",
   "execution_count": 9,
   "metadata": {},
   "outputs": [],
   "source": [
    "class DataTransformation:\n",
    "    def __init__(self, config: DataTransformationConfig):\n",
    "        self.config = config\n",
    "    \n",
    "    def data_transformation(self):\n",
    "        with open(self.config.Data_path, 'r') as f:\n",
    "            data = f.read()\n",
    "\n",
    "        tokenizer=Tokenizer()\n",
    "\n",
    "        tokenizer.fit_on_texts([data])\n",
    "\n",
    "        joblib.dump(tokenizer, os.path.join(self.config.root_dir, self.config.tokenizer_name))\n",
    "\n",
    "        my_dict = tokenizer.word_index\n",
    "\n",
    "        last_key = list(my_dict.keys())[-1]\n",
    "        num_classes = my_dict[last_key]\n",
    "\n",
    "        input_seq=[]\n",
    "        for sentence in data.split(\"\\n\"):\n",
    "            tokenized_sentence=tokenizer.texts_to_sequences([sentence])[0]\n",
    "            for i in range(1,len(tokenized_sentence)):\n",
    "                n_gram=tokenized_sentence[:i+1]\n",
    "                input_seq.append(n_gram)\n",
    "\n",
    "        max_len=max([len(i) for i in input_seq])\n",
    "        constants.MAX_LEN=max_len\n",
    "        print(constants.MAX_LEN)\n",
    "        # self.config.padding=\"post\"\n",
    "\n",
    "        update_nested_yaml('params.yaml', ['to_categorical', 'num_classes'], num_classes+1)\n",
    "        update_nested_yaml('params.yaml', ['Dense', 'units_dense'], num_classes+1)\n",
    "        update_nested_yaml('params.yaml', ['Embedding', 'input_dim'], num_classes+1)\n",
    "        update_nested_yaml('params.yaml', ['Embedding', 'input_length'], (constants.MAX_LEN)-1)\n",
    "\n",
    "        padded_input_seq=pad_sequences(input_seq,maxlen=constants.MAX_LEN,padding=self.config.padding)\n",
    "        print(\"uhwuh\",padded_input_seq)\n",
    "\n",
    "        X=padded_input_seq[:,:-1]\n",
    "        Y=padded_input_seq[:,-1]\n",
    "\n",
    "        print(X.shape)\n",
    "        print(Y.shape)\n",
    "\n",
    "        y=to_categorical(Y,num_classes=num_classes+1)\n",
    "\n",
    "        print(type(X))\n",
    "        print(type(y))\n",
    "\n",
    "        print(X.shape)\n",
    "        print(y.shape)\n",
    "\n",
    "        file_path=os.path.join(self.config.root_dir,\"arrays.npz\")\n",
    "        np.savez(file_path, arr1=X, arr2=y, arr3=Y)\n",
    "\n",
    "        loaded_arrays = np.load(file_path)\n",
    "\n",
    "        loaded_array1 = loaded_arrays['arr1']\n",
    "        loaded_array2 = loaded_arrays['arr2']\n",
    "\n",
    "        print(\"Loaded array1:\", type(loaded_array1))\n",
    "        print(\"Loaded array2:\", type(loaded_array2))\n",
    "\n",
    "        print(loaded_array1.shape)\n",
    "        print(loaded_array2.shape)\n",
    "        "
   ]
  },
  {
   "cell_type": "code",
   "execution_count": 10,
   "metadata": {},
   "outputs": [
    {
     "name": "stdout",
     "output_type": "stream",
     "text": [
      "[2024-07-03 21:30:35,687: INFO:common: yaml file: config\\config.yaml loaded successfully]\n",
      "[2024-07-03 21:30:35,687: INFO:common: yaml file: params.yaml loaded successfully]\n",
      "[2024-07-03 21:30:35,687: INFO:common: createD Directory at:artifacts]\n",
      "[2024-07-03 21:30:35,687: INFO:common: createD Directory at:artifacts/data_transformation]\n",
      "25\n",
      "uhwuh [[  0   0   0 ...   0   1  18]\n",
      " [  0   0   0 ...   1  18  80]\n",
      " [  0   0   0 ...  18  80  35]\n",
      " ...\n",
      " [  0   0   0 ...  12  16 395]\n",
      " [  0   0   0 ...  16 395 396]\n",
      " [  0   0   0 ... 395 396 397]]\n",
      "(672, 24)\n",
      "(672,)\n",
      "<class 'numpy.ndarray'>\n",
      "<class 'numpy.ndarray'>\n",
      "(672, 24)\n",
      "(672, 398)\n",
      "Loaded array1: <class 'numpy.ndarray'>\n",
      "Loaded array2: <class 'numpy.ndarray'>\n",
      "(672, 24)\n",
      "(672, 398)\n"
     ]
    }
   ],
   "source": [
    "try:\n",
    "    config = ConfigurationManager()\n",
    "    data_transformation_config = config.get_data_transformation_config()\n",
    "    data_transformation = DataTransformation(config=data_transformation_config)\n",
    "    data_transformation.data_transformation()\n",
    "except Exception as e:\n",
    "    raise e"
   ]
  }
 ],
 "metadata": {
  "kernelspec": {
   "display_name": "envNWP",
   "language": "python",
   "name": "python3"
  },
  "language_info": {
   "codemirror_mode": {
    "name": "ipython",
    "version": 3
   },
   "file_extension": ".py",
   "mimetype": "text/x-python",
   "name": "python",
   "nbconvert_exporter": "python",
   "pygments_lexer": "ipython3",
   "version": "3.8.19"
  }
 },
 "nbformat": 4,
 "nbformat_minor": 2
}
