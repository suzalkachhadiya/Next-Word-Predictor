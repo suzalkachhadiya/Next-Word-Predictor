{
 "cells": [
  {
   "cell_type": "code",
   "execution_count": 1,
   "metadata": {},
   "outputs": [],
   "source": [
    "import os"
   ]
  },
  {
   "cell_type": "code",
   "execution_count": 2,
   "metadata": {},
   "outputs": [
    {
     "data": {
      "text/plain": [
       "'c:\\\\DataScience\\\\Projects\\\\Next_Word_Predictor\\\\research'"
      ]
     },
     "execution_count": 2,
     "metadata": {},
     "output_type": "execute_result"
    }
   ],
   "source": [
    "%pwd"
   ]
  },
  {
   "cell_type": "code",
   "execution_count": 3,
   "metadata": {},
   "outputs": [],
   "source": [
    "os.chdir(\"../\")"
   ]
  },
  {
   "cell_type": "code",
   "execution_count": 4,
   "metadata": {},
   "outputs": [
    {
     "data": {
      "text/plain": [
       "'c:\\\\DataScience\\\\Projects\\\\Next_Word_Predictor'"
      ]
     },
     "execution_count": 4,
     "metadata": {},
     "output_type": "execute_result"
    }
   ],
   "source": [
    "\n",
    "%pwd"
   ]
  },
  {
   "cell_type": "code",
   "execution_count": 5,
   "metadata": {},
   "outputs": [],
   "source": [
    "import joblib\n",
    "import numpy as np\n",
    "import pandas as pd\n",
    "from NWPproject.constants import *\n",
    "from NWPproject.logging import logger\n",
    "from NWPproject.utils.common import read_yaml_file\n",
    "import tensorflow as tf\n",
    "from tensorflow.keras.preprocessing.sequence import pad_sequences\n",
    "from dataclasses import dataclass"
   ]
  },
  {
   "cell_type": "code",
   "execution_count": 6,
   "metadata": {},
   "outputs": [],
   "source": [
    "@dataclass(frozen=True)\n",
    "class PredictionConfig:\n",
    "    input_length:int\n",
    "    "
   ]
  },
  {
   "cell_type": "code",
   "execution_count": 7,
   "metadata": {},
   "outputs": [],
   "source": [
    "class ConfigurationManager:\n",
    "    def __init__(\n",
    "        self,\n",
    "        params_filepath = PARAMS_FILE_PATH):\n",
    "        # schema_filepath = SCHEMA_FILE_PATH):\n",
    "\n",
    "        self.params = read_yaml_file(params_filepath)\n",
    "        # self.schema = read_yaml_file(schema_filepath)\n",
    "\n",
    "    def get_prediction_config(self) -> PredictionConfig:\n",
    "        # config = self.config.prediction\n",
    "        input_length_params = self.params.Embedding\n",
    "\n",
    "\n",
    "        prediction_config = PredictionConfig(\n",
    "            input_length = input_length_params.input_length  \n",
    "        )\n",
    "\n",
    "        return prediction_config"
   ]
  },
  {
   "cell_type": "code",
   "execution_count": 8,
   "metadata": {},
   "outputs": [],
   "source": [
    "class PredictionPipeline:\n",
    "    def __init__(self,config:PredictionConfig):\n",
    "        self.config = config\n",
    "        self.model = joblib.load(TRAINED_MODEL_PATH)\n",
    "        self.token = joblib.load(TOKEN_PATH)\n",
    "\n",
    "    def predict(self, data):        \n",
    "        res=[]\n",
    "\n",
    "        print(data)\n",
    "\n",
    "        for i in range(len(data.split(\" \"))):\n",
    "            token_text=self.token.texts_to_sequences([data])[0]\n",
    "\n",
    "            print(token_text)\n",
    "\n",
    "            padded_token_text=pad_sequences([token_text],maxlen=self.config.input_length,padding=\"pre\")\n",
    "\n",
    "            idx=np.argmax(self.model.predict(padded_token_text))\n",
    "\n",
    "            for word,index in self.token.word_index.items():\n",
    "                if index==idx:\n",
    "                    data=data+\" \"+ word\n",
    "                    res.append( data)\n",
    "\n",
    "        # prediction = int(self.model.predict(data))\n",
    "        logger.info(f\"Predicted Word: {res}\")\n",
    "        return res"
   ]
  },
  {
   "cell_type": "code",
   "execution_count": 9,
   "metadata": {},
   "outputs": [
    {
     "name": "stdout",
     "output_type": "stream",
     "text": [
      "[2024-07-03 22:14:50,232: INFO:common: yaml file: params.yaml loaded successfully]\n",
      "big story\n",
      "[206, 214]\n",
      "1/1 [==============================] - 0s 360ms/step\n",
      "[206, 214, 6]\n",
      "1/1 [==============================] - 0s 21ms/step\n",
      "[2024-07-03 22:14:51,041: INFO:2500965802: Predicted Word: ['big story and', 'big story and then']]\n"
     ]
    }
   ],
   "source": [
    "try:\n",
    "    config = ConfigurationManager()\n",
    "    prediction_config = config.get_prediction_config()\n",
    "    prediction= PredictionPipeline(config=prediction_config)\n",
    "    PW=prediction.predict(\"big story\")\n",
    "except Exception as e:\n",
    "    raise e"
   ]
  },
  {
   "cell_type": "code",
   "execution_count": 10,
   "metadata": {},
   "outputs": [
    {
     "data": {
      "text/plain": [
       "['big story and', 'big story and then']"
      ]
     },
     "execution_count": 10,
     "metadata": {},
     "output_type": "execute_result"
    }
   ],
   "source": [
    "PW"
   ]
  },
  {
   "cell_type": "code",
   "execution_count": null,
   "metadata": {},
   "outputs": [],
   "source": []
  }
 ],
 "metadata": {
  "kernelspec": {
   "display_name": "envNWP",
   "language": "python",
   "name": "python3"
  },
  "language_info": {
   "codemirror_mode": {
    "name": "ipython",
    "version": 3
   },
   "file_extension": ".py",
   "mimetype": "text/x-python",
   "name": "python",
   "nbconvert_exporter": "python",
   "pygments_lexer": "ipython3",
   "version": "3.8.19"
  }
 },
 "nbformat": 4,
 "nbformat_minor": 2
}
