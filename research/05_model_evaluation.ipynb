{
 "cells": [
  {
   "cell_type": "code",
   "execution_count": 1,
   "metadata": {},
   "outputs": [],
   "source": [
    "import os"
   ]
  },
  {
   "cell_type": "code",
   "execution_count": 2,
   "metadata": {},
   "outputs": [
    {
     "data": {
      "text/plain": [
       "'c:\\\\DataScience\\\\Projects\\\\Next_Word_Predictor\\\\research'"
      ]
     },
     "execution_count": 2,
     "metadata": {},
     "output_type": "execute_result"
    }
   ],
   "source": [
    "%pwd"
   ]
  },
  {
   "cell_type": "code",
   "execution_count": 3,
   "metadata": {},
   "outputs": [],
   "source": [
    "os.chdir(\"../\")"
   ]
  },
  {
   "cell_type": "code",
   "execution_count": 4,
   "metadata": {},
   "outputs": [
    {
     "data": {
      "text/plain": [
       "'c:\\\\DataScience\\\\Projects\\\\Next_Word_Predictor'"
      ]
     },
     "execution_count": 4,
     "metadata": {},
     "output_type": "execute_result"
    }
   ],
   "source": [
    "\n",
    "%pwd"
   ]
  },
  {
   "cell_type": "code",
   "execution_count": 5,
   "metadata": {},
   "outputs": [],
   "source": [
    "from dataclasses import dataclass\n",
    "from pathlib import Path\n",
    "\n",
    "\n",
    "@dataclass(frozen=True)\n",
    "class ModelEvaluationConfig:\n",
    "    root_dir: Path\n",
    "    model_path: Path\n",
    "    array_path: Path\n",
    "    metric_file_name: Path"
   ]
  },
  {
   "cell_type": "code",
   "execution_count": 6,
   "metadata": {},
   "outputs": [],
   "source": [
    "from NWPproject.constants import *\n",
    "from NWPproject.utils.common import read_yaml_file, create_directories"
   ]
  },
  {
   "cell_type": "code",
   "execution_count": 7,
   "metadata": {},
   "outputs": [],
   "source": [
    "class ConfigurationManager:\n",
    "    def __init__(\n",
    "        self,\n",
    "        config_filepath = CONFIG_FILE_PATH,\n",
    "        params_filepath = PARAMS_FILE_PATH):\n",
    "\n",
    "        self.config = read_yaml_file(config_filepath)\n",
    "        self.params = read_yaml_file(params_filepath)\n",
    "\n",
    "        create_directories([self.config.artifacts_root])\n",
    "\n",
    "    def get_model_evaluation_config(self) -> ModelEvaluationConfig:\n",
    "        config = self.config.model_evaluation\n",
    "\n",
    "        create_directories([config.root_dir])\n",
    "\n",
    "        model_evaluation_config = ModelEvaluationConfig(\n",
    "            root_dir=config.root_dir,\n",
    "            model_path = config.model_path,\n",
    "            array_path=config.array_path,\n",
    "            metric_file_name = config.metric_file_name,           \n",
    "        )\n",
    "\n",
    "        return model_evaluation_config"
   ]
  },
  {
   "cell_type": "code",
   "execution_count": 8,
   "metadata": {},
   "outputs": [],
   "source": [
    "from tensorflow.keras.losses import sparse_categorical_crossentropy\n",
    "import numpy as np\n",
    "import joblib\n",
    "from NWPproject.utils.common import save_json_file"
   ]
  },
  {
   "cell_type": "code",
   "execution_count": 9,
   "metadata": {},
   "outputs": [],
   "source": [
    "class ModelEvaluation:\n",
    "    def __init__(self, config: ModelEvaluationConfig):\n",
    "        self.config = config\n",
    "\n",
    "    def eval_metrics(self, model, X, y, Y):\n",
    "        loss = sparse_categorical_crossentropy(Y,model.predict(X))\n",
    "        perplexity = np.exp(np.mean(loss))\n",
    "\n",
    "        _, accuracy = model.evaluate(X, y, verbose=0)\n",
    "\n",
    "        return perplexity, accuracy\n",
    "\n",
    "    \n",
    "    def save_results(self):\n",
    "\n",
    "        model = joblib.load(self.config.model_path)\n",
    "\n",
    "        loaded_arrays = np.load(self.config.array_path)\n",
    "\n",
    "        loaded_array1 = loaded_arrays['arr1']\n",
    "        loaded_array2 = loaded_arrays['arr2']\n",
    "        loaded_array3 = loaded_arrays['arr3']\n",
    "        \n",
    "\n",
    "        (perplexity, accuracy) = self.eval_metrics(model,loaded_array1,loaded_array2, loaded_array3)\n",
    "        \n",
    "        # Saving metrics as local\n",
    "        scores = {\"perplexity\": float(perplexity), \"accuracy\": float(accuracy)}\n",
    "        print(scores)\n",
    "        print(type(scores))\n",
    "        save_json_file(file_path=Path(self.config.metric_file_name), data=scores)"
   ]
  },
  {
   "cell_type": "code",
   "execution_count": 10,
   "metadata": {},
   "outputs": [
    {
     "name": "stdout",
     "output_type": "stream",
     "text": [
      "[2024-07-01 22:52:46,907: INFO:common: yaml file: config\\config.yaml loaded successfully]\n",
      "[2024-07-01 22:52:46,912: INFO:common: yaml file: params.yaml loaded successfully]\n",
      "[2024-07-01 22:52:46,912: INFO:common: createD Directory at:artifacts]\n",
      "[2024-07-01 22:52:46,912: INFO:common: createD Directory at:artifacts/model_evaluation]\n",
      "12/12 [==============================] - 1s 10ms/step\n",
      "{'perplexity': 1.230584979057312, 'accuracy': 0.9788918495178223}\n",
      "<class 'dict'>\n",
      "[2024-07-01 22:52:48,643: INFO:common: Data has been saved to artifacts\\model_evaluation\\metrcis.json]\n"
     ]
    }
   ],
   "source": [
    "try:\n",
    "    config = ConfigurationManager()\n",
    "    model_evaluation_config = config.get_model_evaluation_config()\n",
    "    model_evaluation_config = ModelEvaluation(config=model_evaluation_config)\n",
    "    model_evaluation_config.save_results()\n",
    "except Exception as e:\n",
    "    raise e"
   ]
  },
  {
   "cell_type": "code",
   "execution_count": 11,
   "metadata": {},
   "outputs": [],
   "source": [
    "from pathlib import Path"
   ]
  },
  {
   "cell_type": "code",
   "execution_count": null,
   "metadata": {},
   "outputs": [],
   "source": []
  }
 ],
 "metadata": {
  "kernelspec": {
   "display_name": "envNWP",
   "language": "python",
   "name": "python3"
  },
  "language_info": {
   "codemirror_mode": {
    "name": "ipython",
    "version": 3
   },
   "file_extension": ".py",
   "mimetype": "text/x-python",
   "name": "python",
   "nbconvert_exporter": "python",
   "pygments_lexer": "ipython3",
   "version": "3.8.19"
  }
 },
 "nbformat": 4,
 "nbformat_minor": 2
}
