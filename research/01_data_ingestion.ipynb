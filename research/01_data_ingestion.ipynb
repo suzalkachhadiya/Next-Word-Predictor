{
 "cells": [
  {
   "cell_type": "code",
   "execution_count": 1,
   "metadata": {},
   "outputs": [],
   "source": [
    "import os"
   ]
  },
  {
   "cell_type": "code",
   "execution_count": 2,
   "metadata": {},
   "outputs": [
    {
     "data": {
      "text/plain": [
       "'c:\\\\DataScience\\\\Projects\\\\Next_Word_Predictor\\\\research'"
      ]
     },
     "execution_count": 2,
     "metadata": {},
     "output_type": "execute_result"
    }
   ],
   "source": [
    "%pwd"
   ]
  },
  {
   "cell_type": "code",
   "execution_count": 3,
   "metadata": {},
   "outputs": [],
   "source": [
    "os.chdir(\"../\")"
   ]
  },
  {
   "cell_type": "code",
   "execution_count": 4,
   "metadata": {},
   "outputs": [
    {
     "data": {
      "text/plain": [
       "'c:\\\\DataScience\\\\Projects\\\\Next_Word_Predictor'"
      ]
     },
     "execution_count": 4,
     "metadata": {},
     "output_type": "execute_result"
    }
   ],
   "source": [
    "%pwd"
   ]
  },
  {
   "cell_type": "code",
   "execution_count": 5,
   "metadata": {},
   "outputs": [],
   "source": [
    "from dataclasses import dataclass\n",
    "from pathlib import Path\n",
    "\n",
    "\n",
    "@dataclass(frozen=True)\n",
    "class DataIngestionConfig:\n",
    "    root_dir: Path\n",
    "    local_data_file: Path\n",
    "    destination_folder: Path"
   ]
  },
  {
   "cell_type": "code",
   "execution_count": 6,
   "metadata": {},
   "outputs": [],
   "source": [
    "from NWPproject.constants import *\n",
    "from NWPproject.utils.common import read_yaml_file, create_directories"
   ]
  },
  {
   "cell_type": "code",
   "execution_count": 7,
   "metadata": {},
   "outputs": [],
   "source": [
    "class ConfigurationManager:\n",
    "    def __init__(\n",
    "        self,\n",
    "        config_filepath = CONFIG_FILE_PATH,\n",
    "        params_filepath = PARAMS_FILE_PATH):\n",
    "        # schema_filepath = SCHEMA_FILE_PATH):\n",
    "\n",
    "        self.config = read_yaml_file(config_filepath)\n",
    "        self.params = read_yaml_file(params_filepath)\n",
    "        # self.schema = read_yaml_file(schema_filepath)\n",
    "\n",
    "        create_directories([self.config.artifacts_root])\n",
    "\n",
    "\n",
    "    def get_data_ingestion_config(self) -> DataIngestionConfig:\n",
    "        config = self.config.data_ingestion\n",
    "\n",
    "        create_directories([config.root_dir])\n",
    "\n",
    "        data_ingestion_config = DataIngestionConfig(\n",
    "            root_dir=config.root_dir,\n",
    "            local_data_file=config.local_data_file,\n",
    "            destination_folder=config.destination_folder\n",
    "        )\n",
    "\n",
    "        return data_ingestion_config"
   ]
  },
  {
   "cell_type": "code",
   "execution_count": 8,
   "metadata": {},
   "outputs": [],
   "source": [
    "import tkinter as tk\n",
    "from tkinter import filedialog\n",
    "import shutil"
   ]
  },
  {
   "cell_type": "code",
   "execution_count": 9,
   "metadata": {},
   "outputs": [],
   "source": [
    "class DataIngestion:\n",
    "    def __init__(self, config: DataIngestionConfig):\n",
    "        self.config = config\n",
    "\n",
    "    def upload_and_save_text_file(self):\n",
    "\n",
    "        root = tk.Tk()\n",
    "        # root.withdraw()  # Hide the main window\n",
    "\n",
    "        # Select the source file\n",
    "        source_path = filedialog.askopenfilename(\n",
    "            title=\"Select a text file\",\n",
    "            filetypes=[(\"Text files\", \"*.txt\"), (\"All files\", \"*.*\")]\n",
    "        )\n",
    "        \n",
    "        if source_path:\n",
    "            file_name = os.path.basename(source_path)\n",
    "            print(f\"Selected file: {file_name}\")\n",
    "            \n",
    "            # Create the destination folder if it doesn't exist\n",
    "            os.makedirs(self.config.destination_folder, exist_ok=True)\n",
    "            \n",
    "            # Define the destination path\n",
    "            destination_path = os.path.join(self.config.destination_folder, file_name)\n",
    "            \n",
    "            try:\n",
    "                # Copy the file to the destination folder\n",
    "                shutil.copy2(source_path, destination_path)\n",
    "                print(f\"File saved to: {destination_path}\")\n",
    "                \n",
    "                # Read the content of the file\n",
    "                with open(destination_path, 'r', encoding='utf-8') as file:\n",
    "                    file_content = file.read()\n",
    "                \n",
    "                return #{file_name: file_content}\n",
    "            except Exception as e:\n",
    "                print(f\"Error: Unable to save or read {file_name}. {str(e)}\")\n",
    "                return #{}\n",
    "        else:\n",
    "            print(\"No file selected\")\n",
    "            return #{}"
   ]
  },
  {
   "cell_type": "code",
   "execution_count": 10,
   "metadata": {},
   "outputs": [],
   "source": [
    "\n",
    "# file_path = os.path.join('DataFile', 'xyz.txt')\n",
    "# with open(file_path, 'r') as f:\n",
    "#     content = f.read()\n",
    "#     print(\"os.path.join content:\", content)"
   ]
  },
  {
   "cell_type": "code",
   "execution_count": 11,
   "metadata": {},
   "outputs": [
    {
     "name": "stdout",
     "output_type": "stream",
     "text": [
      "[2024-06-29 14:47:32,880: INFO:common: yaml file: config\\config.yaml loaded successfully]\n",
      "[2024-06-29 14:47:32,880: INFO:common: yaml file: params.yaml loaded successfully]\n",
      "[2024-06-29 14:47:32,888: INFO:common: createD Directory at:artifacts]\n",
      "[2024-06-29 14:47:32,889: INFO:common: createD Directory at:artifacts/data_ingestion]\n",
      "Selected file: NWP.txt\n",
      "File saved to: artifacts/data_ingestion\\NWP.txt\n"
     ]
    },
    {
     "ename": "",
     "evalue": "",
     "output_type": "error",
     "traceback": [
      "\u001b[1;31mThe Kernel crashed while executing code in the current cell or a previous cell. \n",
      "\u001b[1;31mPlease review the code in the cell(s) to identify a possible cause of the failure. \n",
      "\u001b[1;31mClick <a href='https://aka.ms/vscodeJupyterKernelCrash'>here</a> for more info. \n",
      "\u001b[1;31mView Jupyter <a href='command:jupyter.viewOutput'>log</a> for further details."
     ]
    }
   ],
   "source": [
    "try:\n",
    "    config = ConfigurationManager()\n",
    "    data_ingestion_config = config.get_data_ingestion_config()\n",
    "    data_ingestion = DataIngestion(config=data_ingestion_config)\n",
    "    data_ingestion.upload_and_save_text_file()\n",
    "except Exception as e:\n",
    "    raise e"
   ]
  },
  {
   "cell_type": "code",
   "execution_count": null,
   "metadata": {},
   "outputs": [],
   "source": []
  }
 ],
 "metadata": {
  "kernelspec": {
   "display_name": "envNWP",
   "language": "python",
   "name": "python3"
  },
  "language_info": {
   "codemirror_mode": {
    "name": "ipython",
    "version": 3
   },
   "file_extension": ".py",
   "mimetype": "text/x-python",
   "name": "python",
   "nbconvert_exporter": "python",
   "pygments_lexer": "ipython3",
   "version": "3.8.19"
  }
 },
 "nbformat": 4,
 "nbformat_minor": 2
}
